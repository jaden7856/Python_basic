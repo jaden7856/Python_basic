{
 "cells": [
  {
   "cell_type": "code",
   "execution_count": 1,
   "metadata": {
    "colab": {
     "base_uri": "https://localhost:8080/",
     "height": 35
    },
    "colab_type": "code",
    "executionInfo": {
     "elapsed": 4211,
     "status": "ok",
     "timestamp": 1575820913129,
     "user": {
      "displayName": "Hwanhee Kim",
      "photoUrl": "https://lh3.googleusercontent.com/a-/AAuE7mAJC9PPBoQ91glDwFjxm3TlW5EqGy0BIAJ52D-ekw=s64",
      "userId": "04863080312902369470"
     },
     "user_tz": -540
    },
    "id": "gl58Zr-ZKjRE",
    "outputId": "e79e9d7f-37e0-4e15-ba28-62661df716f3"
   },
   "outputs": [],
   "source": [
    "# 텐서플로 2 버전 선택\n",
    "try:\n",
    "    # %tensorflow_version only exists in Colab.\n",
    "    %tensorflow_version 2.x\n",
    "except Exception:\n",
    "    pass\n",
    "import tensorflow as tf\n",
    "import numpy as np"
   ]
  },
  {
   "cell_type": "markdown",
   "metadata": {
    "colab_type": "text",
    "id": "OSciZqogK0Mg"
   },
   "source": [
    "# 7.2 주요 레이어 정리"
   ]
  },
  {
   "cell_type": "markdown",
   "metadata": {
    "colab_type": "text",
    "id": "8DmYqaWfcxJa"
   },
   "source": [
    "## 7.2.1 SimpleRNN 레이어"
   ]
  },
  {
   "cell_type": "code",
   "execution_count": 2,
   "metadata": {
    "colab": {},
    "colab_type": "code",
    "id": "s0f2FG66cx27"
   },
   "outputs": [],
   "source": [
    "# 7.1 SimpleRNN 레이어 생성 코드\n",
    "rnn1 = tf.keras.layers.SimpleRNN(units=1, activation='tanh', return_sequences=True)"
   ]
  },
  {
   "cell_type": "code",
   "execution_count": 3,
   "metadata": {
    "colab": {
     "base_uri": "https://localhost:8080/",
     "height": 449
    },
    "colab_type": "code",
    "executionInfo": {
     "elapsed": 43014,
     "status": "ok",
     "timestamp": 1565400947872,
     "user": {
      "displayName": "Hwanhee Kim",
      "photoUrl": "https://lh6.googleusercontent.com/-nodxsDvEvZo/AAAAAAAAAAI/AAAAAAAABHE/Ybrj2myvr5Q/s64/photo.jpg",
      "userId": "04863080312902369470"
     },
     "user_tz": -540
    },
    "id": "vU4_rMdw47Au",
    "outputId": "c395215a-9a07-4a78-f9d2-d088c9c8a0a9"
   },
   "outputs": [
    {
     "name": "stdout",
     "output_type": "stream",
     "text": [
      "[[0. ]\n",
      " [0.1]\n",
      " [0.2]\n",
      " [0.3]] 0.4\n",
      "[[0.1]\n",
      " [0.2]\n",
      " [0.3]\n",
      " [0.4]] 0.5\n",
      "[[0.2]\n",
      " [0.3]\n",
      " [0.4]\n",
      " [0.5]] 0.6\n",
      "[[0.3]\n",
      " [0.4]\n",
      " [0.5]\n",
      " [0.6]] 0.7\n",
      "[[0.4]\n",
      " [0.5]\n",
      " [0.6]\n",
      " [0.7]] 0.8\n",
      "[[0.5]\n",
      " [0.6]\n",
      " [0.7]\n",
      " [0.8]] 0.9\n"
     ]
    }
   ],
   "source": [
    "# 7.2 시퀀스 예측 데이터 생성\n",
    "X = []\n",
    "Y = []\n",
    "for i in range(6):\n",
    "    # [0,1,2,3], [1,2,3,4] 같은 정수의 시퀀스를 만듭니다.\n",
    "    lst = list(range(i,i+4))\n",
    "\n",
    "    # 위에서 구한 시퀀스의 숫자들을 각각 10으로 나눈 다음 저장합니다.\n",
    "    # SimpleRNN 에 각 타임스텝에 하나씩 숫자가 들어가기 때문에 여기서도 하나씩 분리해서 배열에 저장합니다.\n",
    "    X.append(list(map(lambda c: [c/10], lst)))\n",
    "\n",
    "    # 정답에 해당하는 4, 5 등의 정수를 역시 위처럼 10으로 나눠서 저장합니다.\n",
    "    Y.append((i+4)/10)\n",
    "    \n",
    "X = np.array(X)\n",
    "Y = np.array(Y)\n",
    "for i in range(len(X)):\n",
    "    print(X[i], Y[i])"
   ]
  },
  {
   "cell_type": "markdown",
   "metadata": {},
   "source": [
    "<img src=\"img/img_26.png\">"
   ]
  },
  {
   "cell_type": "code",
   "execution_count": 4,
   "metadata": {
    "colab": {
     "base_uri": "https://localhost:8080/",
     "height": 233
    },
    "colab_type": "code",
    "executionInfo": {
     "elapsed": 3098,
     "status": "ok",
     "timestamp": 1565420204501,
     "user": {
      "displayName": "Hwanhee Kim",
      "photoUrl": "https://lh6.googleusercontent.com/-nodxsDvEvZo/AAAAAAAAAAI/AAAAAAAABHE/Ybrj2myvr5Q/s64/photo.jpg",
      "userId": "04863080312902369470"
     },
     "user_tz": -540
    },
    "id": "yFdjOc6G5kO1",
    "outputId": "b1f16a66-1bc5-439e-e51b-89709bd3a85f"
   },
   "outputs": [
    {
     "name": "stdout",
     "output_type": "stream",
     "text": [
      "Model: \"sequential\"\n",
      "_________________________________________________________________\n",
      "Layer (type)                 Output Shape              Param #   \n",
      "=================================================================\n",
      "simple_rnn_1 (SimpleRNN)     (None, 10)                120       \n",
      "_________________________________________________________________\n",
      "dense (Dense)                (None, 1)                 11        \n",
      "=================================================================\n",
      "Total params: 131\n",
      "Trainable params: 131\n",
      "Non-trainable params: 0\n",
      "_________________________________________________________________\n"
     ]
    }
   ],
   "source": [
    "# 7.3 시퀀스 예측 모델 정의\n",
    "model = tf.keras.Sequential([\n",
    "    tf.keras.layers.SimpleRNN(units=10, return_sequences=False, input_shape=[4,1]),\n",
    "    tf.keras.layers.Dense(1)\n",
    "])\n",
    "\n",
    "model.compile(optimizer='adam', loss='mse')\n",
    "model.summary()"
   ]
  },
  {
   "cell_type": "code",
   "execution_count": 5,
   "metadata": {
    "colab": {
     "base_uri": "https://localhost:8080/",
     "height": 125
    },
    "colab_type": "code",
    "executionInfo": {
     "elapsed": 3394,
     "status": "ok",
     "timestamp": 1565095662369,
     "user": {
      "displayName": "Hwanhee Kim",
      "photoUrl": "https://lh6.googleusercontent.com/-nodxsDvEvZo/AAAAAAAAAAI/AAAAAAAABHE/Ybrj2myvr5Q/s64/photo.jpg",
      "userId": "04863080312902369470"
     },
     "user_tz": -540
    },
    "id": "7odqgVWw5oyH",
    "outputId": "c67cc65e-2ea1-4f8a-b979-9977d5827747"
   },
   "outputs": [
    {
     "name": "stdout",
     "output_type": "stream",
     "text": [
      "[[0.37268856]\n",
      " [0.5162746 ]\n",
      " [0.6358113 ]\n",
      " [0.7292036 ]\n",
      " [0.7993218 ]\n",
      " [0.8511947 ]]\n"
     ]
    }
   ],
   "source": [
    "# 7.4 네트워크 훈련 및 결과 확인\n",
    "model.fit(X, Y, epochs=100, verbose=0)\n",
    "print(model.predict(X))"
   ]
  },
  {
   "cell_type": "code",
   "execution_count": 6,
   "metadata": {
    "colab": {
     "base_uri": "https://localhost:8080/",
     "height": 53
    },
    "colab_type": "code",
    "executionInfo": {
     "elapsed": 805,
     "status": "ok",
     "timestamp": 1565095663313,
     "user": {
      "displayName": "Hwanhee Kim",
      "photoUrl": "https://lh6.googleusercontent.com/-nodxsDvEvZo/AAAAAAAAAAI/AAAAAAAABHE/Ybrj2myvr5Q/s64/photo.jpg",
      "userId": "04863080312902369470"
     },
     "user_tz": -540
    },
    "id": "KQUaYRRG7aWA",
    "outputId": "c5baa2e9-e25c-4195-98a6-2b58d1b0fdb1"
   },
   "outputs": [
    {
     "name": "stdout",
     "output_type": "stream",
     "text": [
      "[[0.8899259]]\n",
      "[[0.21382782]]\n"
     ]
    }
   ],
   "source": [
    "# 7.5 학습되지 않은 시퀀스에 대한 예측 결과\n",
    "print(model.predict(np.array([[[0.6],[0.7],[0.8],[0.9]]])))\n",
    "print(model.predict(np.array([[[-0.1],[0.0],[0.1],[0.2]]])))"
   ]
  },
  {
   "cell_type": "markdown",
   "metadata": {
    "colab_type": "text",
    "id": "HGzdLJHZvSUg"
   },
   "source": [
    "## 7.2.2 LSTM 레이어"
   ]
  },
  {
   "cell_type": "markdown",
   "metadata": {},
   "source": [
    "<img src=\"img/img_27.png\">"
   ]
  },
  {
   "cell_type": "code",
   "execution_count": 8,
   "metadata": {
    "colab": {
     "base_uri": "https://localhost:8080/",
     "height": 1000
    },
    "colab_type": "code",
    "executionInfo": {
     "elapsed": 40878,
     "status": "ok",
     "timestamp": 1565400949229,
     "user": {
      "displayName": "Hwanhee Kim",
      "photoUrl": "https://lh6.googleusercontent.com/-nodxsDvEvZo/AAAAAAAAAAI/AAAAAAAABHE/Ybrj2myvr5Q/s64/photo.jpg",
      "userId": "04863080312902369470"
     },
     "user_tz": -540
    },
    "id": "iYyU1BKZFDvo",
    "outputId": "579631eb-65e7-4e6f-96ef-a1b15fd83823",
    "scrolled": true
   },
   "outputs": [
    {
     "name": "stdout",
     "output_type": "stream",
     "text": [
      "[[0.         0.75043588]\n",
      " [0.         0.84977674]\n",
      " [0.         0.75079042]\n",
      " [0.         0.99153133]\n",
      " [0.         0.39740218]\n",
      " [0.         0.68406638]\n",
      " [0.         0.92112858]\n",
      " [0.         0.19871497]\n",
      " [0.         0.20331555]\n",
      " [0.         0.52013969]\n",
      " [0.         0.36454399]\n",
      " [0.         0.19231899]\n",
      " [0.         0.60002799]\n",
      " [0.         0.68901117]\n",
      " [0.         0.46352878]\n",
      " [0.         0.73979124]\n",
      " [0.         0.12016497]\n",
      " [0.         0.60710439]\n",
      " [0.         0.88847828]\n",
      " [0.         0.74481923]\n",
      " [0.         0.00931065]\n",
      " [0.         0.53562572]\n",
      " [0.         0.54103777]\n",
      " [0.         0.85096695]\n",
      " [0.         0.81001585]\n",
      " [0.         0.77461173]\n",
      " [0.         0.51283159]\n",
      " [0.         0.8958606 ]\n",
      " [0.         0.02067496]\n",
      " [0.         0.0589433 ]\n",
      " [0.         0.91864594]\n",
      " [0.         0.45424077]\n",
      " [0.         0.33008879]\n",
      " [0.         0.28017087]\n",
      " [0.         0.81599895]\n",
      " [0.         0.46648271]\n",
      " [0.         0.48212974]\n",
      " [0.         0.87728339]\n",
      " [0.         0.32710781]\n",
      " [0.         0.96239561]\n",
      " [0.         0.99928949]\n",
      " [0.         0.88177773]\n",
      " [0.         0.42924081]\n",
      " [0.         0.54699913]\n",
      " [0.         0.80769207]\n",
      " [0.         0.79495012]\n",
      " [0.         0.64861592]\n",
      " [0.         0.39039984]\n",
      " [0.         0.07365565]\n",
      " [0.         0.63404209]\n",
      " [0.         0.78383014]\n",
      " [0.         0.27940346]\n",
      " [0.         0.69879276]\n",
      " [0.         0.37607205]\n",
      " [0.         0.63553517]\n",
      " [0.         0.96719612]\n",
      " [0.         0.49609477]\n",
      " [1.         0.22918507]\n",
      " [0.         0.87723602]\n",
      " [0.         0.19371114]\n",
      " [0.         0.52092554]\n",
      " [0.         0.76601223]\n",
      " [0.         0.13427683]\n",
      " [0.         0.05506125]\n",
      " [1.         0.84668789]\n",
      " [0.         0.13230542]\n",
      " [0.         0.31763533]\n",
      " [0.         0.50832416]\n",
      " [0.         0.70525951]\n",
      " [0.         0.6667169 ]\n",
      " [0.         0.74730758]\n",
      " [0.         0.66455194]\n",
      " [0.         0.74508152]\n",
      " [0.         0.39787779]\n",
      " [0.         0.86688714]\n",
      " [0.         0.78582347]\n",
      " [0.         0.35692301]\n",
      " [0.         0.22774879]\n",
      " [0.         0.81605155]\n",
      " [0.         0.22649089]\n",
      " [0.         0.34252189]\n",
      " [0.         0.18414666]\n",
      " [0.         0.81842194]\n",
      " [0.         0.6005555 ]\n",
      " [0.         0.329574  ]\n",
      " [0.         0.78670766]\n",
      " [0.         0.79273862]\n",
      " [0.         0.64690383]\n",
      " [0.         0.69211863]\n",
      " [0.         0.02227085]\n",
      " [0.         0.58892617]\n",
      " [0.         0.98473418]\n",
      " [0.         0.37284978]\n",
      " [0.         0.03121631]\n",
      " [0.         0.94006445]\n",
      " [0.         0.85666818]\n",
      " [0.         0.67731951]\n",
      " [0.         0.65397051]\n",
      " [0.         0.21653365]\n",
      " [0.         0.6245363 ]] 0.19404822432541585\n"
     ]
    }
   ],
   "source": [
    "# 7.6 곱셈 문제 데이터 생성\n",
    "X = []\n",
    "Y = []\n",
    "for i in range(3000):\n",
    "    # 0~1 사이의 랜덤한 숫자 100 개를 만듭니다.\n",
    "    lst = np.random.rand(100)\n",
    "    # 마킹할 숫자 2개의 인덱스를 뽑습니다.\n",
    "    idx = np.random.choice(100, 2, replace=False)\n",
    "    # 마킹 인덱스가 저장된 원-핫 인코딩 벡터를 만듭니다.\n",
    "    zeros = np.zeros(100)\n",
    "    zeros[idx] = 1\n",
    "    # 마킹 인덱스와 랜덤한 숫자를 합쳐서 X 에 저장합니다.\n",
    "    X.append(np.array(list(zip(zeros, lst))))\n",
    "    # 마킹 인덱스가 1인 값들만 서로 곱해서 Y 에 저장합니다.\n",
    "    Y.append(np.prod(lst[idx]))\n",
    "    \n",
    "print(X[0], Y[0])"
   ]
  },
  {
   "cell_type": "markdown",
   "metadata": {},
   "source": [
    "<img src=\"img/img_28.png\">"
   ]
  },
  {
   "cell_type": "code",
   "execution_count": 9,
   "metadata": {
    "colab": {
     "base_uri": "https://localhost:8080/",
     "height": 269
    },
    "colab_type": "code",
    "executionInfo": {
     "elapsed": 1081,
     "status": "ok",
     "timestamp": 1565420208111,
     "user": {
      "displayName": "Hwanhee Kim",
      "photoUrl": "https://lh6.googleusercontent.com/-nodxsDvEvZo/AAAAAAAAAAI/AAAAAAAABHE/Ybrj2myvr5Q/s64/photo.jpg",
      "userId": "04863080312902369470"
     },
     "user_tz": -540
    },
    "id": "doitxA8uOm5i",
    "outputId": "d2cf0fe0-2497-4fb0-91e9-35f82da28b8c"
   },
   "outputs": [
    {
     "name": "stdout",
     "output_type": "stream",
     "text": [
      "Model: \"sequential_1\"\n",
      "_________________________________________________________________\n",
      "Layer (type)                 Output Shape              Param #   \n",
      "=================================================================\n",
      "simple_rnn_2 (SimpleRNN)     (None, 100, 30)           990       \n",
      "_________________________________________________________________\n",
      "simple_rnn_3 (SimpleRNN)     (None, 30)                1830      \n",
      "_________________________________________________________________\n",
      "dense_1 (Dense)              (None, 1)                 31        \n",
      "=================================================================\n",
      "Total params: 2,851\n",
      "Trainable params: 2,851\n",
      "Non-trainable params: 0\n",
      "_________________________________________________________________\n"
     ]
    }
   ],
   "source": [
    "# 7.7 SimpleRNN 레이어를 사용한 곱셈 문제 모델 정의 --> 실질적으로는 위로 많이 쌓지는 않음;;;;\n",
    "model = tf.keras.Sequential([\n",
    "    tf.keras.layers.SimpleRNN(units=30, return_sequences=True, input_shape=[100,2]),\n",
    "    tf.keras.layers.SimpleRNN(units=30),\n",
    "    tf.keras.layers.Dense(1)\n",
    "])\n",
    "\n",
    "model.compile(optimizer='adam', loss='mse')\n",
    "model.summary()"
   ]
  },
  {
   "cell_type": "code",
   "execution_count": 10,
   "metadata": {
    "colab": {
     "base_uri": "https://localhost:8080/",
     "height": 1000
    },
    "colab_type": "code",
    "executionInfo": {
     "elapsed": 1863900,
     "status": "ok",
     "timestamp": 1565017987773,
     "user": {
      "displayName": "Hwanhee Kim",
      "photoUrl": "https://lh6.googleusercontent.com/-nodxsDvEvZo/AAAAAAAAAAI/AAAAAAAABHE/Ybrj2myvr5Q/s64/photo.jpg",
      "userId": "04863080312902369470"
     },
     "user_tz": -540
    },
    "id": "HTp4nvHYOqOZ",
    "outputId": "eb794c29-17b8-4a37-8d37-36fce66569fa"
   },
   "outputs": [
    {
     "name": "stdout",
     "output_type": "stream",
     "text": [
      "Train on 2048 samples, validate on 512 samples\n",
      "Epoch 1/100\n",
      "2048/2048 [==============================] - 6s 3ms/sample - loss: 0.2169 - val_loss: 0.0605\n",
      "Epoch 2/100\n",
      "2048/2048 [==============================] - 5s 2ms/sample - loss: 0.0537 - val_loss: 0.0512\n",
      "Epoch 3/100\n",
      "2048/2048 [==============================] - 5s 2ms/sample - loss: 0.0506 - val_loss: 0.0491\n",
      "Epoch 4/100\n",
      "2048/2048 [==============================] - 5s 2ms/sample - loss: 0.0507 - val_loss: 0.0527\n",
      "Epoch 5/100\n",
      "2048/2048 [==============================] - 5s 2ms/sample - loss: 0.0504 - val_loss: 0.0471\n",
      "Epoch 6/100\n",
      "2048/2048 [==============================] - 5s 2ms/sample - loss: 0.0496 - val_loss: 0.0476\n",
      "Epoch 7/100\n",
      "2048/2048 [==============================] - 5s 2ms/sample - loss: 0.0499 - val_loss: 0.0458\n",
      "Epoch 8/100\n",
      "2048/2048 [==============================] - 4s 2ms/sample - loss: 0.0490 - val_loss: 0.0487\n",
      "Epoch 9/100\n",
      "2048/2048 [==============================] - 4s 2ms/sample - loss: 0.0517 - val_loss: 0.0492\n",
      "Epoch 10/100\n",
      "2048/2048 [==============================] - 5s 2ms/sample - loss: 0.0490 - val_loss: 0.0457\n",
      "Epoch 11/100\n",
      "2048/2048 [==============================] - 5s 2ms/sample - loss: 0.0512 - val_loss: 0.0527\n",
      "Epoch 12/100\n",
      "2048/2048 [==============================] - 5s 2ms/sample - loss: 0.0499 - val_loss: 0.0456\n",
      "Epoch 13/100\n",
      "2048/2048 [==============================] - 5s 2ms/sample - loss: 0.0494 - val_loss: 0.0458\n",
      "Epoch 14/100\n",
      "2048/2048 [==============================] - 5s 2ms/sample - loss: 0.0501 - val_loss: 0.0565\n",
      "Epoch 15/100\n",
      "2048/2048 [==============================] - 5s 2ms/sample - loss: 0.0500 - val_loss: 0.0456\n",
      "Epoch 16/100\n",
      "2048/2048 [==============================] - 5s 2ms/sample - loss: 0.0488 - val_loss: 0.0460\n",
      "Epoch 17/100\n",
      "2048/2048 [==============================] - 5s 2ms/sample - loss: 0.0493 - val_loss: 0.0471\n",
      "Epoch 18/100\n",
      "2048/2048 [==============================] - 5s 2ms/sample - loss: 0.0487 - val_loss: 0.0459\n",
      "Epoch 19/100\n",
      "2048/2048 [==============================] - 5s 2ms/sample - loss: 0.0491 - val_loss: 0.0456\n",
      "Epoch 20/100\n",
      "2048/2048 [==============================] - 5s 2ms/sample - loss: 0.0499 - val_loss: 0.0489\n",
      "Epoch 21/100\n",
      "2048/2048 [==============================] - 4s 2ms/sample - loss: 0.0494 - val_loss: 0.0456\n",
      "Epoch 22/100\n",
      "2048/2048 [==============================] - 5s 2ms/sample - loss: 0.0493 - val_loss: 0.0456\n",
      "Epoch 23/100\n",
      "2048/2048 [==============================] - 5s 2ms/sample - loss: 0.0487 - val_loss: 0.0460\n",
      "Epoch 24/100\n",
      "2048/2048 [==============================] - 5s 2ms/sample - loss: 0.0483 - val_loss: 0.0457\n",
      "Epoch 25/100\n",
      "2048/2048 [==============================] - 5s 2ms/sample - loss: 0.0486 - val_loss: 0.0458\n",
      "Epoch 26/100\n",
      "2048/2048 [==============================] - 5s 2ms/sample - loss: 0.0484 - val_loss: 0.0481\n",
      "Epoch 27/100\n",
      "2048/2048 [==============================] - 5s 2ms/sample - loss: 0.0490 - val_loss: 0.0454\n",
      "Epoch 28/100\n",
      "2048/2048 [==============================] - 5s 2ms/sample - loss: 0.0481 - val_loss: 0.0458\n",
      "Epoch 29/100\n",
      "2048/2048 [==============================] - 5s 2ms/sample - loss: 0.0478 - val_loss: 0.0478\n",
      "Epoch 30/100\n",
      "2048/2048 [==============================] - 5s 2ms/sample - loss: 0.0489 - val_loss: 0.0506\n",
      "Epoch 31/100\n",
      "2048/2048 [==============================] - 5s 2ms/sample - loss: 0.0479 - val_loss: 0.0461\n",
      "Epoch 32/100\n",
      "2048/2048 [==============================] - 5s 2ms/sample - loss: 0.0478 - val_loss: 0.0476\n",
      "Epoch 33/100\n",
      "2048/2048 [==============================] - 5s 2ms/sample - loss: 0.0477 - val_loss: 0.0470\n",
      "Epoch 34/100\n",
      "2048/2048 [==============================] - 5s 2ms/sample - loss: 0.0473 - val_loss: 0.0461\n",
      "Epoch 35/100\n",
      "2048/2048 [==============================] - 5s 2ms/sample - loss: 0.0466 - val_loss: 0.0470\n",
      "Epoch 36/100\n",
      "2048/2048 [==============================] - 5s 2ms/sample - loss: 0.0466 - val_loss: 0.0462\n",
      "Epoch 37/100\n",
      "2048/2048 [==============================] - 5s 2ms/sample - loss: 0.0460 - val_loss: 0.0497\n",
      "Epoch 38/100\n",
      "2048/2048 [==============================] - 5s 2ms/sample - loss: 0.0461 - val_loss: 0.0490\n",
      "Epoch 39/100\n",
      "2048/2048 [==============================] - 5s 2ms/sample - loss: 0.0471 - val_loss: 0.0472\n",
      "Epoch 40/100\n",
      "2048/2048 [==============================] - 5s 2ms/sample - loss: 0.0461 - val_loss: 0.0464\n",
      "Epoch 41/100\n",
      "2048/2048 [==============================] - 5s 2ms/sample - loss: 0.0465 - val_loss: 0.0470\n",
      "Epoch 42/100\n",
      "2048/2048 [==============================] - 5s 2ms/sample - loss: 0.0462 - val_loss: 0.0470\n",
      "Epoch 43/100\n",
      "2048/2048 [==============================] - 5s 2ms/sample - loss: 0.0466 - val_loss: 0.0468\n",
      "Epoch 44/100\n",
      "2048/2048 [==============================] - 5s 2ms/sample - loss: 0.0458 - val_loss: 0.0467\n",
      "Epoch 45/100\n",
      "2048/2048 [==============================] - 5s 2ms/sample - loss: 0.0457 - val_loss: 0.0471\n",
      "Epoch 46/100\n",
      "2048/2048 [==============================] - 5s 2ms/sample - loss: 0.0450 - val_loss: 0.0518\n",
      "Epoch 47/100\n",
      "2048/2048 [==============================] - 5s 2ms/sample - loss: 0.0452 - val_loss: 0.0488\n",
      "Epoch 48/100\n",
      "2048/2048 [==============================] - 4s 2ms/sample - loss: 0.0446 - val_loss: 0.0495\n",
      "Epoch 49/100\n",
      "2048/2048 [==============================] - 4s 2ms/sample - loss: 0.0448 - val_loss: 0.0491\n",
      "Epoch 50/100\n",
      "2048/2048 [==============================] - 4s 2ms/sample - loss: 0.0450 - val_loss: 0.0459\n",
      "Epoch 51/100\n",
      "2048/2048 [==============================] - 4s 2ms/sample - loss: 0.0469 - val_loss: 0.0494\n",
      "Epoch 52/100\n",
      "2048/2048 [==============================] - 4s 2ms/sample - loss: 0.0446 - val_loss: 0.0480\n",
      "Epoch 53/100\n",
      "2048/2048 [==============================] - 4s 2ms/sample - loss: 0.0462 - val_loss: 0.0468\n",
      "Epoch 54/100\n",
      "2048/2048 [==============================] - 4s 2ms/sample - loss: 0.0444 - val_loss: 0.0520\n",
      "Epoch 55/100\n",
      "2048/2048 [==============================] - 4s 2ms/sample - loss: 0.0449 - val_loss: 0.0470\n",
      "Epoch 56/100\n",
      "2048/2048 [==============================] - 4s 2ms/sample - loss: 0.0441 - val_loss: 0.0472\n",
      "Epoch 57/100\n",
      "2048/2048 [==============================] - 4s 2ms/sample - loss: 0.0442 - val_loss: 0.0472\n",
      "Epoch 58/100\n",
      "2048/2048 [==============================] - 4s 2ms/sample - loss: 0.0452 - val_loss: 0.0492\n",
      "Epoch 59/100\n",
      "2048/2048 [==============================] - 4s 2ms/sample - loss: 0.0444 - val_loss: 0.0483\n",
      "Epoch 60/100\n",
      "2048/2048 [==============================] - 4s 2ms/sample - loss: 0.0434 - val_loss: 0.0506\n",
      "Epoch 61/100\n",
      "2048/2048 [==============================] - 5s 2ms/sample - loss: 0.0445 - val_loss: 0.0497\n",
      "Epoch 62/100\n",
      "2048/2048 [==============================] - 5s 2ms/sample - loss: 0.0455 - val_loss: 0.0521\n",
      "Epoch 63/100\n",
      "2048/2048 [==============================] - 4s 2ms/sample - loss: 0.0440 - val_loss: 0.0509\n",
      "Epoch 64/100\n",
      "2048/2048 [==============================] - 5s 2ms/sample - loss: 0.0429 - val_loss: 0.0486\n",
      "Epoch 65/100\n",
      "2048/2048 [==============================] - 5s 2ms/sample - loss: 0.0433 - val_loss: 0.0479\n",
      "Epoch 66/100\n",
      "2048/2048 [==============================] - 5s 2ms/sample - loss: 0.0435 - val_loss: 0.0485\n",
      "Epoch 67/100\n",
      "2048/2048 [==============================] - 5s 2ms/sample - loss: 0.0423 - val_loss: 0.0499\n",
      "Epoch 68/100\n",
      "2048/2048 [==============================] - 5s 2ms/sample - loss: 0.0422 - val_loss: 0.0486\n",
      "Epoch 69/100\n",
      "2048/2048 [==============================] - 5s 2ms/sample - loss: 0.0434 - val_loss: 0.0485\n",
      "Epoch 70/100\n",
      "2048/2048 [==============================] - 4s 2ms/sample - loss: 0.0430 - val_loss: 0.0509\n",
      "Epoch 71/100\n",
      "2048/2048 [==============================] - 4s 2ms/sample - loss: 0.0425 - val_loss: 0.0600\n",
      "Epoch 72/100\n",
      "2048/2048 [==============================] - 4s 2ms/sample - loss: 0.0429 - val_loss: 0.0483\n",
      "Epoch 73/100\n",
      "2048/2048 [==============================] - 4s 2ms/sample - loss: 0.0417 - val_loss: 0.0499\n",
      "Epoch 74/100\n",
      "2048/2048 [==============================] - 4s 2ms/sample - loss: 0.0422 - val_loss: 0.0515\n",
      "Epoch 75/100\n",
      "2048/2048 [==============================] - 5s 2ms/sample - loss: 0.0434 - val_loss: 0.0493\n",
      "Epoch 76/100\n",
      "2048/2048 [==============================] - 5s 2ms/sample - loss: 0.0421 - val_loss: 0.0500\n",
      "Epoch 77/100\n",
      "2048/2048 [==============================] - 5s 2ms/sample - loss: 0.0411 - val_loss: 0.0509\n"
     ]
    },
    {
     "name": "stdout",
     "output_type": "stream",
     "text": [
      "Epoch 78/100\n",
      "2048/2048 [==============================] - 5s 2ms/sample - loss: 0.0413 - val_loss: 0.0487\n",
      "Epoch 79/100\n",
      "2048/2048 [==============================] - 5s 2ms/sample - loss: 0.0411 - val_loss: 0.0504\n",
      "Epoch 80/100\n",
      "2048/2048 [==============================] - 5s 2ms/sample - loss: 0.0406 - val_loss: 0.0507\n",
      "Epoch 81/100\n",
      "2048/2048 [==============================] - 5s 2ms/sample - loss: 0.0407 - val_loss: 0.0518\n",
      "Epoch 82/100\n",
      "2048/2048 [==============================] - 5s 2ms/sample - loss: 0.0400 - val_loss: 0.0566\n",
      "Epoch 83/100\n",
      "2048/2048 [==============================] - 5s 2ms/sample - loss: 0.0392 - val_loss: 0.0528\n",
      "Epoch 84/100\n",
      "2048/2048 [==============================] - 5s 2ms/sample - loss: 0.0397 - val_loss: 0.0525\n",
      "Epoch 85/100\n",
      "2048/2048 [==============================] - 5s 2ms/sample - loss: 0.0388 - val_loss: 0.0546\n",
      "Epoch 86/100\n",
      "2048/2048 [==============================] - 5s 2ms/sample - loss: 0.0383 - val_loss: 0.0539\n",
      "Epoch 87/100\n",
      "2048/2048 [==============================] - 5s 2ms/sample - loss: 0.0376 - val_loss: 0.0518\n",
      "Epoch 88/100\n",
      "2048/2048 [==============================] - 5s 2ms/sample - loss: 0.0375 - val_loss: 0.0527\n",
      "Epoch 89/100\n",
      "2048/2048 [==============================] - 5s 2ms/sample - loss: 0.0370 - val_loss: 0.0520\n",
      "Epoch 90/100\n",
      "2048/2048 [==============================] - 5s 2ms/sample - loss: 0.0372 - val_loss: 0.0556\n",
      "Epoch 91/100\n",
      "2048/2048 [==============================] - 5s 2ms/sample - loss: 0.0366 - val_loss: 0.0526\n",
      "Epoch 92/100\n",
      "2048/2048 [==============================] - 5s 2ms/sample - loss: 0.0360 - val_loss: 0.0555\n",
      "Epoch 93/100\n",
      "2048/2048 [==============================] - 5s 2ms/sample - loss: 0.0363 - val_loss: 0.0544\n",
      "Epoch 94/100\n",
      "2048/2048 [==============================] - 5s 2ms/sample - loss: 0.0353 - val_loss: 0.0544\n",
      "Epoch 95/100\n",
      "2048/2048 [==============================] - 5s 2ms/sample - loss: 0.0362 - val_loss: 0.0539\n",
      "Epoch 96/100\n",
      "2048/2048 [==============================] - 5s 2ms/sample - loss: 0.0352 - val_loss: 0.0553\n",
      "Epoch 97/100\n",
      "2048/2048 [==============================] - 4s 2ms/sample - loss: 0.0360 - val_loss: 0.0546\n",
      "Epoch 98/100\n",
      "2048/2048 [==============================] - 5s 2ms/sample - loss: 0.0339 - val_loss: 0.0572\n",
      "Epoch 99/100\n",
      "2048/2048 [==============================] - 5s 2ms/sample - loss: 0.0338 - val_loss: 0.0540\n",
      "Epoch 100/100\n",
      "2048/2048 [==============================] - 5s 2ms/sample - loss: 0.0329 - val_loss: 0.0564\n"
     ]
    }
   ],
   "source": [
    "# 7.8 SimpleRNN 네트워크 학습\n",
    "X = np.array(X)\n",
    "Y = np.array(Y)\n",
    "# 2560개의 데이터만 학습시킵니다. validation 데이터는 20% 로 지정합니다.\n",
    "history = model.fit(X[:2560], Y[:2560], epochs=100, validation_split=0.2)"
   ]
  },
  {
   "cell_type": "code",
   "execution_count": 11,
   "metadata": {
    "colab": {
     "base_uri": "https://localhost:8080/",
     "height": 283
    },
    "colab_type": "code",
    "executionInfo": {
     "elapsed": 1323,
     "status": "ok",
     "timestamp": 1565020968714,
     "user": {
      "displayName": "Hwanhee Kim",
      "photoUrl": "https://lh6.googleusercontent.com/-nodxsDvEvZo/AAAAAAAAAAI/AAAAAAAABHE/Ybrj2myvr5Q/s64/photo.jpg",
      "userId": "04863080312902369470"
     },
     "user_tz": -540
    },
    "id": "3EiSvd5rOsIV",
    "outputId": "5b51499b-b5cd-4a94-b733-424f4e46faeb"
   },
   "outputs": [
    {
     "data": {
      "image/png": "[encoded data removed]",
      "text/plain": [
       "<Figure size 432x288 with 1 Axes>"
      ]
     },
     "metadata": {
      "needs_background": "light"
     },
     "output_type": "display_data"
    }
   ],
   "source": [
    "# 7.9 SimpleRNN 네트워크 학습 결과 확인\n",
    "import matplotlib.pyplot as plt\n",
    "plt.plot(history.history['loss'], 'b-', label='loss')\n",
    "plt.plot(history.history['val_loss'], 'r--', label='val_loss')\n",
    "plt.xlabel('Epoch')\n",
    "plt.legend()\n",
    "plt.show()"
   ]
  },
  {
   "cell_type": "code",
   "execution_count": 12,
   "metadata": {
    "colab": {
     "base_uri": "https://localhost:8080/",
     "height": 143
    },
    "colab_type": "code",
    "executionInfo": {
     "elapsed": 3140,
     "status": "ok",
     "timestamp": 1565020973154,
     "user": {
      "displayName": "Hwanhee Kim",
      "photoUrl": "https://lh6.googleusercontent.com/-nodxsDvEvZo/AAAAAAAAAAI/AAAAAAAABHE/Ybrj2myvr5Q/s64/photo.jpg",
      "userId": "04863080312902369470"
     },
     "user_tz": -540
    },
    "id": "g5OnirteOyut",
    "outputId": "09b4541d-aa7e-4906-b950-b119ac841168"
   },
   "outputs": [
    {
     "name": "stdout",
     "output_type": "stream",
     "text": [
      "440/440 [==============================] - 1s 1ms/sample - loss: 0.0634\n",
      "0.24467654209052994 \t 0.4121101 \tdiff: 0.16743354816520736\n",
      "0.03799422518023726 \t 0.25626278 \tdiff: 0.21826855405560258\n",
      "0.43853523451824333 \t 0.30629924 \tdiff: 0.13223599512119438\n",
      "0.020768808706543084 \t 0.34481752 \tdiff: 0.3240487104813842\n",
      "0.127802033914215 \t 0.22752243 \tdiff: 0.09972039888989268\n",
      "correctness: 8.636363636363637 %\n"
     ]
    }
   ],
   "source": [
    "# 7.10 Test 데이터에 대한 예측 정확도 확인\n",
    "model.evaluate(X[2560:], Y[2560:])\n",
    "prediction = model.predict(X[2560:2560+5])\n",
    "# 5개 테스트 데이터에 대한 예측을 표시합니다.\n",
    "for i in range(5):\n",
    "    print(Y[2560+i], '\\t', prediction[i][0], '\\tdiff:', abs(prediction[i][0] - Y[2560+i]))\n",
    "    \n",
    "prediction = model.predict(X[2560:])\n",
    "fail = 0\n",
    "for i in range(len(prediction)):\n",
    "    # 오차가 0.04 이상이면 오답입니다.\n",
    "    if abs(prediction[i][0] - Y[2560+i]) > 0.04:\n",
    "        fail += 1\n",
    "print('correctness:', (440 - fail) / 440 * 100, '%')"
   ]
  },
  {
   "cell_type": "code",
   "execution_count": 13,
   "metadata": {
    "colab": {
     "base_uri": "https://localhost:8080/",
     "height": 325
    },
    "colab_type": "code",
    "executionInfo": {
     "elapsed": 1051,
     "status": "ok",
     "timestamp": 1565420214041,
     "user": {
      "displayName": "Hwanhee Kim",
      "photoUrl": "https://lh6.googleusercontent.com/-nodxsDvEvZo/AAAAAAAAAAI/AAAAAAAABHE/Ybrj2myvr5Q/s64/photo.jpg",
      "userId": "04863080312902369470"
     },
     "user_tz": -540
    },
    "id": "6o1z24gWIe4B",
    "outputId": "7124a02f-34bb-4114-8b9e-d8168c576e7d"
   },
   "outputs": [
    {
     "name": "stdout",
     "output_type": "stream",
     "text": [
      "Model: \"sequential_2\"\n",
      "_________________________________________________________________\n",
      "Layer (type)                 Output Shape              Param #   \n",
      "=================================================================\n",
      "lstm (LSTM)                  (None, 100, 30)           3960      \n",
      "_________________________________________________________________\n",
      "lstm_1 (LSTM)                (None, 30)                7320      \n",
      "_________________________________________________________________\n",
      "dense_2 (Dense)              (None, 1)                 31        \n",
      "=================================================================\n",
      "Total params: 11,311\n",
      "Trainable params: 11,311\n",
      "Non-trainable params: 0\n",
      "_________________________________________________________________\n"
     ]
    }
   ],
   "source": [
    "# 7.11 LSTM 레이어를 사용한 곱셈 문제 모델 정의\n",
    "model = tf.keras.Sequential([\n",
    "    tf.keras.layers.LSTM(units=30, return_sequences=True, input_shape=[100,2]),\n",
    "    tf.keras.layers.LSTM(units=30),\n",
    "    tf.keras.layers.Dense(1)\n",
    "])\n",
    "\n",
    "model.compile(optimizer='adam', loss='mse')\n",
    "model.summary()"
   ]
  },
  {
   "cell_type": "code",
   "execution_count": 14,
   "metadata": {
    "colab": {
     "base_uri": "https://localhost:8080/",
     "height": 1000
    },
    "colab_type": "code",
    "executionInfo": {
     "elapsed": 285145,
     "status": "ok",
     "timestamp": 1565249375352,
     "user": {
      "displayName": "Hwanhee Kim",
      "photoUrl": "https://lh6.googleusercontent.com/-nodxsDvEvZo/AAAAAAAAAAI/AAAAAAAABHE/Ybrj2myvr5Q/s64/photo.jpg",
      "userId": "04863080312902369470"
     },
     "user_tz": -540
    },
    "id": "XavhYhX4Imax",
    "outputId": "d6f20c85-3fdd-4115-fbfc-56a91ef82c4f",
    "scrolled": true
   },
   "outputs": [
    {
     "name": "stdout",
     "output_type": "stream",
     "text": [
      "Train on 2048 samples, validate on 512 samples\n",
      "Epoch 1/100\n",
      "2048/2048 [==============================] - 10s 5ms/sample - loss: 0.0576 - val_loss: 0.0466\n",
      "Epoch 2/100\n",
      "2048/2048 [==============================] - 7s 3ms/sample - loss: 0.0494 - val_loss: 0.0457\n",
      "Epoch 3/100\n",
      "2048/2048 [==============================] - 7s 3ms/sample - loss: 0.0488 - val_loss: 0.0457\n",
      "Epoch 4/100\n",
      "2048/2048 [==============================] - 7s 3ms/sample - loss: 0.0489 - val_loss: 0.0470\n",
      "Epoch 5/100\n",
      "2048/2048 [==============================] - 6s 3ms/sample - loss: 0.0490 - val_loss: 0.0459\n",
      "Epoch 6/100\n",
      "2048/2048 [==============================] - 7s 3ms/sample - loss: 0.0490 - val_loss: 0.0458\n",
      "Epoch 7/100\n",
      "2048/2048 [==============================] - 7s 3ms/sample - loss: 0.0489 - val_loss: 0.0456\n",
      "Epoch 8/100\n",
      "2048/2048 [==============================] - 7s 3ms/sample - loss: 0.0488 - val_loss: 0.0474\n",
      "Epoch 9/100\n",
      "2048/2048 [==============================] - 7s 3ms/sample - loss: 0.0486 - val_loss: 0.0464\n",
      "Epoch 10/100\n",
      "2048/2048 [==============================] - 7s 3ms/sample - loss: 0.0486 - val_loss: 0.0457\n",
      "Epoch 11/100\n",
      "2048/2048 [==============================] - 7s 3ms/sample - loss: 0.0487 - val_loss: 0.0460\n",
      "Epoch 12/100\n",
      "2048/2048 [==============================] - 6s 3ms/sample - loss: 0.0487 - val_loss: 0.0466\n",
      "Epoch 13/100\n",
      "2048/2048 [==============================] - 7s 3ms/sample - loss: 0.0485 - val_loss: 0.0457\n",
      "Epoch 14/100\n",
      "2048/2048 [==============================] - 7s 3ms/sample - loss: 0.0488 - val_loss: 0.0474\n",
      "Epoch 15/100\n",
      "2048/2048 [==============================] - 6s 3ms/sample - loss: 0.0486 - val_loss: 0.0456\n",
      "Epoch 16/100\n",
      "2048/2048 [==============================] - 7s 3ms/sample - loss: 0.0485 - val_loss: 0.0471\n",
      "Epoch 17/100\n",
      "2048/2048 [==============================] - 7s 3ms/sample - loss: 0.0484 - val_loss: 0.0454\n",
      "Epoch 18/100\n",
      "2048/2048 [==============================] - 7s 3ms/sample - loss: 0.0489 - val_loss: 0.0464\n",
      "Epoch 19/100\n",
      "2048/2048 [==============================] - 7s 3ms/sample - loss: 0.0486 - val_loss: 0.0477\n",
      "Epoch 20/100\n",
      "2048/2048 [==============================] - 7s 3ms/sample - loss: 0.0483 - val_loss: 0.0460\n",
      "Epoch 21/100\n",
      "2048/2048 [==============================] - 7s 3ms/sample - loss: 0.0483 - val_loss: 0.0451\n",
      "Epoch 22/100\n",
      "2048/2048 [==============================] - 7s 3ms/sample - loss: 0.0478 - val_loss: 0.0423\n",
      "Epoch 23/100\n",
      "2048/2048 [==============================] - 7s 3ms/sample - loss: 0.0488 - val_loss: 0.0461\n",
      "Epoch 24/100\n",
      "2048/2048 [==============================] - 7s 3ms/sample - loss: 0.0485 - val_loss: 0.0459\n",
      "Epoch 25/100\n",
      "2048/2048 [==============================] - 7s 3ms/sample - loss: 0.0482 - val_loss: 0.0460\n",
      "Epoch 26/100\n",
      "2048/2048 [==============================] - 7s 3ms/sample - loss: 0.0480 - val_loss: 0.0458\n",
      "Epoch 27/100\n",
      "2048/2048 [==============================] - 7s 3ms/sample - loss: 0.0482 - val_loss: 0.0458\n",
      "Epoch 28/100\n",
      "2048/2048 [==============================] - 6s 3ms/sample - loss: 0.0478 - val_loss: 0.0448\n",
      "Epoch 29/100\n",
      "2048/2048 [==============================] - 7s 3ms/sample - loss: 0.0473 - val_loss: 0.0456\n",
      "Epoch 30/100\n",
      "2048/2048 [==============================] - 6s 3ms/sample - loss: 0.0459 - val_loss: 0.0517\n",
      "Epoch 31/100\n",
      "2048/2048 [==============================] - 6s 3ms/sample - loss: 0.0445 - val_loss: 0.0337\n",
      "Epoch 32/100\n",
      "2048/2048 [==============================] - 7s 3ms/sample - loss: 0.0491 - val_loss: 0.0439\n",
      "Epoch 33/100\n",
      "2048/2048 [==============================] - 7s 3ms/sample - loss: 0.0458 - val_loss: 0.0435\n",
      "Epoch 34/100\n",
      "2048/2048 [==============================] - 7s 3ms/sample - loss: 0.0433 - val_loss: 0.0365\n",
      "Epoch 35/100\n",
      "2048/2048 [==============================] - 7s 3ms/sample - loss: 0.0424 - val_loss: 0.0290\n",
      "Epoch 36/100\n",
      "2048/2048 [==============================] - 7s 3ms/sample - loss: 0.0418 - val_loss: 0.0371\n",
      "Epoch 37/100\n",
      "2048/2048 [==============================] - 7s 4ms/sample - loss: 0.0236 - val_loss: 0.0108\n",
      "Epoch 38/100\n",
      "2048/2048 [==============================] - 7s 3ms/sample - loss: 0.0094 - val_loss: 0.0097\n",
      "Epoch 39/100\n",
      "2048/2048 [==============================] - 7s 4ms/sample - loss: 0.0084 - val_loss: 0.0082\n",
      "Epoch 40/100\n",
      "2048/2048 [==============================] - 8s 4ms/sample - loss: 0.0074 - val_loss: 0.0040\n",
      "Epoch 41/100\n",
      "2048/2048 [==============================] - 8s 4ms/sample - loss: 0.0047 - val_loss: 0.0058\n",
      "Epoch 42/100\n",
      "2048/2048 [==============================] - 8s 4ms/sample - loss: 0.0060 - val_loss: 0.0030\n",
      "Epoch 43/100\n",
      "2048/2048 [==============================] - 7s 3ms/sample - loss: 0.0041 - val_loss: 0.0034\n",
      "Epoch 44/100\n",
      "2048/2048 [==============================] - 7s 3ms/sample - loss: 0.0038 - val_loss: 0.0027\n",
      "Epoch 45/100\n",
      "2048/2048 [==============================] - 6s 3ms/sample - loss: 0.0033 - val_loss: 0.0024\n",
      "Epoch 46/100\n",
      "2048/2048 [==============================] - 7s 3ms/sample - loss: 0.0028 - val_loss: 0.0023\n",
      "Epoch 47/100\n",
      "2048/2048 [==============================] - 7s 3ms/sample - loss: 0.0025 - val_loss: 0.0031\n",
      "Epoch 48/100\n",
      "2048/2048 [==============================] - 7s 3ms/sample - loss: 0.0025 - val_loss: 0.0022\n",
      "Epoch 49/100\n",
      "2048/2048 [==============================] - 7s 3ms/sample - loss: 0.0035 - val_loss: 0.0025\n",
      "Epoch 50/100\n",
      "2048/2048 [==============================] - 8s 4ms/sample - loss: 0.0028 - val_loss: 0.0034\n",
      "Epoch 51/100\n",
      "2048/2048 [==============================] - 7s 3ms/sample - loss: 0.0023 - val_loss: 0.0022\n",
      "Epoch 52/100\n",
      "2048/2048 [==============================] - 7s 3ms/sample - loss: 0.0025 - val_loss: 0.0020\n",
      "Epoch 53/100\n",
      "2048/2048 [==============================] - 8s 4ms/sample - loss: 0.0025 - val_loss: 0.0023\n",
      "Epoch 54/100\n",
      "2048/2048 [==============================] - 7s 3ms/sample - loss: 0.0020 - val_loss: 0.0018\n",
      "Epoch 55/100\n",
      "2048/2048 [==============================] - 7s 3ms/sample - loss: 0.0019 - val_loss: 0.0024\n",
      "Epoch 56/100\n",
      "2048/2048 [==============================] - 7s 3ms/sample - loss: 0.0020 - val_loss: 0.0023\n",
      "Epoch 57/100\n",
      "2048/2048 [==============================] - 6s 3ms/sample - loss: 0.0019 - val_loss: 0.0022\n",
      "Epoch 58/100\n",
      "2048/2048 [==============================] - 7s 3ms/sample - loss: 0.0019 - val_loss: 0.0016\n",
      "Epoch 59/100\n",
      "2048/2048 [==============================] - 7s 3ms/sample - loss: 0.0020 - val_loss: 0.0015\n",
      "Epoch 60/100\n",
      "2048/2048 [==============================] - 7s 3ms/sample - loss: 0.0019 - val_loss: 0.0015\n",
      "Epoch 61/100\n",
      "2048/2048 [==============================] - 7s 3ms/sample - loss: 0.0015 - val_loss: 0.0019\n",
      "Epoch 62/100\n",
      "2048/2048 [==============================] - 7s 3ms/sample - loss: 0.0017 - val_loss: 0.0015\n",
      "Epoch 63/100\n",
      "2048/2048 [==============================] - 7s 4ms/sample - loss: 0.0023 - val_loss: 0.0016\n",
      "Epoch 64/100\n",
      "2048/2048 [==============================] - 7s 3ms/sample - loss: 0.0016 - val_loss: 0.0015\n",
      "Epoch 65/100\n",
      "2048/2048 [==============================] - 6s 3ms/sample - loss: 0.0013 - val_loss: 0.0012\n",
      "Epoch 66/100\n",
      "2048/2048 [==============================] - 7s 3ms/sample - loss: 0.0012 - val_loss: 0.0012\n",
      "Epoch 67/100\n",
      "2048/2048 [==============================] - 7s 3ms/sample - loss: 0.0015 - val_loss: 0.0011\n",
      "Epoch 68/100\n",
      "2048/2048 [==============================] - 6s 3ms/sample - loss: 0.0012 - val_loss: 0.0014\n",
      "Epoch 69/100\n",
      "2048/2048 [==============================] - 7s 3ms/sample - loss: 0.0013 - val_loss: 0.0014\n",
      "Epoch 70/100\n",
      "2048/2048 [==============================] - 7s 3ms/sample - loss: 0.0012 - val_loss: 0.0014\n",
      "Epoch 71/100\n",
      "2048/2048 [==============================] - 8s 4ms/sample - loss: 0.0011 - val_loss: 0.0014\n",
      "Epoch 72/100\n",
      "2048/2048 [==============================] - 7s 3ms/sample - loss: 0.0011 - val_loss: 9.9389e-04\n",
      "Epoch 73/100\n",
      "2048/2048 [==============================] - 7s 4ms/sample - loss: 0.0012 - val_loss: 0.0012\n",
      "Epoch 74/100\n",
      "2048/2048 [==============================] - 7s 3ms/sample - loss: 0.0010 - val_loss: 0.0012\n",
      "Epoch 75/100\n",
      "2048/2048 [==============================] - 8s 4ms/sample - loss: 0.0010 - val_loss: 8.9797e-04\n",
      "Epoch 76/100\n",
      "2048/2048 [==============================] - 7s 3ms/sample - loss: 9.6144e-04 - val_loss: 0.0012\n",
      "Epoch 77/100\n",
      "2048/2048 [==============================] - 7s 3ms/sample - loss: 0.0015 - val_loss: 9.1826e-04\n"
     ]
    },
    {
     "name": "stdout",
     "output_type": "stream",
     "text": [
      "Epoch 78/100\n",
      "2048/2048 [==============================] - 7s 3ms/sample - loss: 0.0010 - val_loss: 9.3023e-04\n",
      "Epoch 79/100\n",
      "2048/2048 [==============================] - 7s 3ms/sample - loss: 8.3099e-04 - val_loss: 8.0720e-04\n",
      "Epoch 80/100\n",
      "2048/2048 [==============================] - 7s 3ms/sample - loss: 8.8873e-04 - val_loss: 8.5891e-04\n",
      "Epoch 81/100\n",
      "2048/2048 [==============================] - 7s 3ms/sample - loss: 8.1101e-04 - val_loss: 7.6416e-04\n",
      "Epoch 82/100\n",
      "2048/2048 [==============================] - 7s 3ms/sample - loss: 6.7796e-04 - val_loss: 7.8500e-04\n",
      "Epoch 83/100\n",
      "2048/2048 [==============================] - 7s 3ms/sample - loss: 0.0013 - val_loss: 0.0014\n",
      "Epoch 84/100\n",
      "2048/2048 [==============================] - 7s 3ms/sample - loss: 0.0011 - val_loss: 8.1484e-04\n",
      "Epoch 85/100\n",
      "2048/2048 [==============================] - 8s 4ms/sample - loss: 8.4956e-04 - val_loss: 0.0015\n",
      "Epoch 86/100\n",
      "2048/2048 [==============================] - 8s 4ms/sample - loss: 8.0390e-04 - val_loss: 5.7362e-04\n",
      "Epoch 87/100\n",
      "2048/2048 [==============================] - 7s 3ms/sample - loss: 8.2343e-04 - val_loss: 0.0010\n",
      "Epoch 88/100\n",
      "2048/2048 [==============================] - 7s 3ms/sample - loss: 8.4843e-04 - val_loss: 7.8910e-04\n",
      "Epoch 89/100\n",
      "2048/2048 [==============================] - 7s 3ms/sample - loss: 7.9699e-04 - val_loss: 0.0013\n",
      "Epoch 90/100\n",
      "2048/2048 [==============================] - 7s 3ms/sample - loss: 7.0201e-04 - val_loss: 5.7157e-04\n",
      "Epoch 91/100\n",
      "2048/2048 [==============================] - 7s 3ms/sample - loss: 6.2009e-04 - val_loss: 0.0011\n",
      "Epoch 92/100\n",
      "2048/2048 [==============================] - 8s 4ms/sample - loss: 7.3045e-04 - val_loss: 8.0004e-04\n",
      "Epoch 93/100\n",
      "2048/2048 [==============================] - 9s 4ms/sample - loss: 5.8691e-04 - val_loss: 5.7395e-04\n",
      "Epoch 94/100\n",
      "2048/2048 [==============================] - 7s 3ms/sample - loss: 5.2534e-04 - val_loss: 4.7290e-04\n",
      "Epoch 95/100\n",
      "2048/2048 [==============================] - 7s 3ms/sample - loss: 5.0422e-04 - val_loss: 9.0161e-04\n",
      "Epoch 96/100\n",
      "2048/2048 [==============================] - 6s 3ms/sample - loss: 5.6523e-04 - val_loss: 4.6680e-04\n",
      "Epoch 97/100\n",
      "2048/2048 [==============================] - 6s 3ms/sample - loss: 5.4958e-04 - val_loss: 6.7629e-04\n",
      "Epoch 98/100\n",
      "2048/2048 [==============================] - 6s 3ms/sample - loss: 7.6849e-04 - val_loss: 7.7518e-04\n",
      "Epoch 99/100\n",
      "2048/2048 [==============================] - 6s 3ms/sample - loss: 8.9717e-04 - val_loss: 5.1676e-04\n",
      "Epoch 100/100\n",
      "2048/2048 [==============================] - 6s 3ms/sample - loss: 5.2242e-04 - val_loss: 4.3825e-04\n"
     ]
    }
   ],
   "source": [
    "# 7.12 LSTM 네트워크 학습\n",
    "X = np.array(X)\n",
    "Y = np.array(Y)\n",
    "history = model.fit(X[:2560], Y[:2560], epochs=100, validation_split=0.2)"
   ]
  },
  {
   "cell_type": "code",
   "execution_count": 16,
   "metadata": {
    "colab": {
     "base_uri": "https://localhost:8080/",
     "height": 283
    },
    "colab_type": "code",
    "executionInfo": {
     "elapsed": 80481,
     "status": "ok",
     "timestamp": 1565015931206,
     "user": {
      "displayName": "Hwanhee Kim",
      "photoUrl": "https://lh6.googleusercontent.com/-nodxsDvEvZo/AAAAAAAAAAI/AAAAAAAABHE/Ybrj2myvr5Q/s64/photo.jpg",
      "userId": "04863080312902369470"
     },
     "user_tz": -540
    },
    "id": "NJSlA-z7NRHE",
    "outputId": "7a17b10f-139b-4afc-be65-a70dd039bf30"
   },
   "outputs": [
    {
     "data": {
      "image/png": "[encoded data removed]",
      "text/plain": [
       "<Figure size 432x288 with 1 Axes>"
      ]
     },
     "metadata": {
      "needs_background": "light"
     },
     "output_type": "display_data"
    }
   ],
   "source": [
    "# 7.13 LSTM 네트워크 학습 결과 확인\n",
    "import matplotlib.pyplot as plt\n",
    "plt.plot(history.history['loss'], 'b-', label='loss')\n",
    "plt.plot(history.history['val_loss'], 'r--', label='val_loss')\n",
    "plt.xlabel('Epoch')\n",
    "plt.legend()\n",
    "plt.show()"
   ]
  },
  {
   "cell_type": "code",
   "execution_count": 17,
   "metadata": {
    "colab": {
     "base_uri": "https://localhost:8080/",
     "height": 143
    },
    "colab_type": "code",
    "executionInfo": {
     "elapsed": 761,
     "status": "ok",
     "timestamp": 1565016079805,
     "user": {
      "displayName": "Hwanhee Kim",
      "photoUrl": "https://lh6.googleusercontent.com/-nodxsDvEvZo/AAAAAAAAAAI/AAAAAAAABHE/Ybrj2myvr5Q/s64/photo.jpg",
      "userId": "04863080312902369470"
     },
     "user_tz": -540
    },
    "id": "Ob1VbaYzJCWa",
    "outputId": "74c30022-c570-4a34-ecc9-4e964573e661"
   },
   "outputs": [
    {
     "name": "stdout",
     "output_type": "stream",
     "text": [
      "440/440 [==============================] - 0s 1ms/sample - loss: 5.0392e-04\n",
      "0.24467654209052994 \t 0.2136125 \tdiff: 0.031064045237655186\n",
      "0.03799422518023726 \t 0.051368702 \tdiff: 0.013374477022798092\n",
      "0.43853523451824333 \t 0.42310545 \tdiff: 0.015429786033822557\n",
      "0.020768808706543084 \t 0.015988529 \tdiff: 0.004780279978057977\n",
      "0.127802033914215 \t 0.1198253 \tdiff: 0.007976730359680079\n",
      "correctness: 93.4090909090909 %\n"
     ]
    }
   ],
   "source": [
    "# 7.14 Test 데이터에 대한 예측 정확도 확인\n",
    "model.evaluate(X[2560:], Y[2560:])\n",
    "prediction = model.predict(X[2560:2560+5])\n",
    "for i in range(5):\n",
    "    print(Y[2560+i], '\\t', prediction[i][0], '\\tdiff:', abs(prediction[i][0] - Y[2560+i]))\n",
    "    \n",
    "prediction = model.predict(X[2560:])\n",
    "cnt = 0\n",
    "for i in range(len(prediction)):\n",
    "    if abs(prediction[i][0] - Y[2560+i]) > 0.04:\n",
    "        cnt += 1\n",
    "print('correctness:', (440 - cnt) / 440 * 100, '%')"
   ]
  },
  {
   "cell_type": "markdown",
   "metadata": {
    "colab_type": "text",
    "id": "VxV7T14AvXkH"
   },
   "source": [
    "## 7.2.3 GRU 레이어"
   ]
  },
  {
   "cell_type": "code",
   "execution_count": 18,
   "metadata": {
    "colab": {
     "base_uri": "https://localhost:8080/",
     "height": 269
    },
    "colab_type": "code",
    "executionInfo": {
     "elapsed": 1059,
     "status": "ok",
     "timestamp": 1565420218129,
     "user": {
      "displayName": "Hwanhee Kim",
      "photoUrl": "https://lh6.googleusercontent.com/-nodxsDvEvZo/AAAAAAAAAAI/AAAAAAAABHE/Ybrj2myvr5Q/s64/photo.jpg",
      "userId": "04863080312902369470"
     },
     "user_tz": -540
    },
    "id": "8WjH-A0WvNAO",
    "outputId": "454743b1-553a-47ae-fe0e-c02ffa31d098"
   },
   "outputs": [
    {
     "name": "stdout",
     "output_type": "stream",
     "text": [
      "Model: \"sequential_3\"\n",
      "_________________________________________________________________\n",
      "Layer (type)                 Output Shape              Param #   \n",
      "=================================================================\n",
      "gru (GRU)                    (None, 100, 30)           3060      \n",
      "_________________________________________________________________\n",
      "gru_1 (GRU)                  (None, 30)                5580      \n",
      "_________________________________________________________________\n",
      "dense_3 (Dense)              (None, 1)                 31        \n",
      "=================================================================\n",
      "Total params: 8,671\n",
      "Trainable params: 8,671\n",
      "Non-trainable params: 0\n",
      "_________________________________________________________________\n"
     ]
    }
   ],
   "source": [
    "# 7.15 GRU 레이어를 사용한 곱셈 문제 모델 정의\n",
    "model = tf.keras.Sequential([\n",
    "    tf.keras.layers.GRU(units=30, return_sequences=True, input_shape=[100,2]),\n",
    "    tf.keras.layers.GRU(units=30),\n",
    "    tf.keras.layers.Dense(1)\n",
    "])\n",
    "\n",
    "model.compile(optimizer='adam', loss='mse')\n",
    "model.summary()"
   ]
  },
  {
   "cell_type": "code",
   "execution_count": 19,
   "metadata": {
    "colab": {
     "base_uri": "https://localhost:8080/",
     "height": 1000
    },
    "colab_type": "code",
    "executionInfo": {
     "elapsed": 515269,
     "status": "ok",
     "timestamp": 1565249609835,
     "user": {
      "displayName": "Hwanhee Kim",
      "photoUrl": "https://lh6.googleusercontent.com/-nodxsDvEvZo/AAAAAAAAAAI/AAAAAAAABHE/Ybrj2myvr5Q/s64/photo.jpg",
      "userId": "04863080312902369470"
     },
     "user_tz": -540
    },
    "id": "vd6C4gvUvdQS",
    "outputId": "efd36828-7906-4dc2-c92d-197230073c83",
    "scrolled": true
   },
   "outputs": [
    {
     "name": "stdout",
     "output_type": "stream",
     "text": [
      "Train on 2048 samples, validate on 512 samples\n",
      "Epoch 1/100\n",
      "2048/2048 [==============================] - 11s 5ms/sample - loss: 0.0547 - val_loss: 0.0462\n",
      "Epoch 2/100\n",
      "2048/2048 [==============================] - 7s 4ms/sample - loss: 0.0490 - val_loss: 0.0459\n",
      "Epoch 3/100\n",
      "2048/2048 [==============================] - 7s 3ms/sample - loss: 0.0492 - val_loss: 0.0458\n",
      "Epoch 4/100\n",
      "2048/2048 [==============================] - 7s 3ms/sample - loss: 0.0490 - val_loss: 0.0457\n",
      "Epoch 5/100\n",
      "2048/2048 [==============================] - 7s 3ms/sample - loss: 0.0488 - val_loss: 0.0477\n",
      "Epoch 6/100\n",
      "2048/2048 [==============================] - 7s 3ms/sample - loss: 0.0488 - val_loss: 0.0458\n",
      "Epoch 7/100\n",
      "2048/2048 [==============================] - 7s 3ms/sample - loss: 0.0490 - val_loss: 0.0459\n",
      "Epoch 8/100\n",
      "2048/2048 [==============================] - 7s 3ms/sample - loss: 0.0486 - val_loss: 0.0456\n",
      "Epoch 9/100\n",
      "2048/2048 [==============================] - 7s 3ms/sample - loss: 0.0484 - val_loss: 0.0463\n",
      "Epoch 10/100\n",
      "2048/2048 [==============================] - 7s 3ms/sample - loss: 0.0486 - val_loss: 0.0461\n",
      "Epoch 11/100\n",
      "2048/2048 [==============================] - 7s 4ms/sample - loss: 0.0481 - val_loss: 0.0456\n",
      "Epoch 12/100\n",
      "2048/2048 [==============================] - 7s 3ms/sample - loss: 0.0484 - val_loss: 0.0464\n",
      "Epoch 13/100\n",
      "2048/2048 [==============================] - 7s 3ms/sample - loss: 0.0481 - val_loss: 0.0455\n",
      "Epoch 14/100\n",
      "2048/2048 [==============================] - 7s 3ms/sample - loss: 0.0474 - val_loss: 0.0448\n",
      "Epoch 15/100\n",
      "2048/2048 [==============================] - 7s 3ms/sample - loss: 0.0470 - val_loss: 0.0443\n",
      "Epoch 16/100\n",
      "2048/2048 [==============================] - 8s 4ms/sample - loss: 0.0465 - val_loss: 0.0439\n",
      "Epoch 17/100\n",
      "2048/2048 [==============================] - 8s 4ms/sample - loss: 0.0438 - val_loss: 0.0299\n",
      "Epoch 18/100\n",
      "2048/2048 [==============================] - 7s 4ms/sample - loss: 0.0103 - val_loss: 0.0045\n",
      "Epoch 19/100\n",
      "2048/2048 [==============================] - 7s 4ms/sample - loss: 0.0042 - val_loss: 0.0029\n",
      "Epoch 20/100\n",
      "2048/2048 [==============================] - 7s 4ms/sample - loss: 0.0030 - val_loss: 0.0027\n",
      "Epoch 21/100\n",
      "2048/2048 [==============================] - 7s 4ms/sample - loss: 0.0026 - val_loss: 0.0020\n",
      "Epoch 22/100\n",
      "2048/2048 [==============================] - 8s 4ms/sample - loss: 0.0023 - val_loss: 0.0020\n",
      "Epoch 23/100\n",
      "2048/2048 [==============================] - 7s 3ms/sample - loss: 0.0017 - val_loss: 0.0018\n",
      "Epoch 24/100\n",
      "2048/2048 [==============================] - 7s 3ms/sample - loss: 0.0014 - val_loss: 0.0016\n",
      "Epoch 25/100\n",
      "2048/2048 [==============================] - 7s 3ms/sample - loss: 0.0012 - val_loss: 0.0013\n",
      "Epoch 26/100\n",
      "2048/2048 [==============================] - 7s 4ms/sample - loss: 0.0011 - val_loss: 0.0011\n",
      "Epoch 27/100\n",
      "2048/2048 [==============================] - 8s 4ms/sample - loss: 9.6114e-04 - val_loss: 9.9218e-04\n",
      "Epoch 28/100\n",
      "2048/2048 [==============================] - 7s 3ms/sample - loss: 0.0012 - val_loss: 0.0014\n",
      "Epoch 29/100\n",
      "2048/2048 [==============================] - 8s 4ms/sample - loss: 8.3877e-04 - val_loss: 0.0011\n",
      "Epoch 30/100\n",
      "2048/2048 [==============================] - 7s 3ms/sample - loss: 8.3704e-04 - val_loss: 8.1799e-04\n",
      "Epoch 31/100\n",
      "2048/2048 [==============================] - 7s 3ms/sample - loss: 6.8119e-04 - val_loss: 7.8186e-04\n",
      "Epoch 32/100\n",
      "2048/2048 [==============================] - 7s 3ms/sample - loss: 8.0916e-04 - val_loss: 7.5241e-04\n",
      "Epoch 33/100\n",
      "2048/2048 [==============================] - 7s 3ms/sample - loss: 6.4306e-04 - val_loss: 7.9639e-04\n",
      "Epoch 34/100\n",
      "2048/2048 [==============================] - 7s 3ms/sample - loss: 7.1349e-04 - val_loss: 7.7796e-04\n",
      "Epoch 35/100\n",
      "2048/2048 [==============================] - 7s 3ms/sample - loss: 6.8902e-04 - val_loss: 6.6103e-04\n",
      "Epoch 36/100\n",
      "2048/2048 [==============================] - 8s 4ms/sample - loss: 5.5113e-04 - val_loss: 7.5242e-04\n",
      "Epoch 37/100\n",
      "2048/2048 [==============================] - 7s 3ms/sample - loss: 5.2018e-04 - val_loss: 6.1576e-04\n",
      "Epoch 38/100\n",
      "2048/2048 [==============================] - 7s 3ms/sample - loss: 5.4316e-04 - val_loss: 6.5460e-04\n",
      "Epoch 39/100\n",
      "2048/2048 [==============================] - 7s 3ms/sample - loss: 4.9761e-04 - val_loss: 5.7900e-04\n",
      "Epoch 40/100\n",
      "2048/2048 [==============================] - 7s 3ms/sample - loss: 6.4433e-04 - val_loss: 6.3456e-04\n",
      "Epoch 41/100\n",
      "2048/2048 [==============================] - 6s 3ms/sample - loss: 4.3007e-04 - val_loss: 5.1405e-04\n",
      "Epoch 42/100\n",
      "2048/2048 [==============================] - 6s 3ms/sample - loss: 4.6047e-04 - val_loss: 5.6858e-04\n",
      "Epoch 43/100\n",
      "2048/2048 [==============================] - 6s 3ms/sample - loss: 4.5253e-04 - val_loss: 6.1058e-04\n",
      "Epoch 44/100\n",
      "2048/2048 [==============================] - 6s 3ms/sample - loss: 4.3952e-04 - val_loss: 5.3319e-04\n",
      "Epoch 45/100\n",
      "2048/2048 [==============================] - 7s 3ms/sample - loss: 4.6192e-04 - val_loss: 6.3710e-04\n",
      "Epoch 46/100\n",
      "2048/2048 [==============================] - 7s 3ms/sample - loss: 4.1073e-04 - val_loss: 4.7592e-04\n",
      "Epoch 47/100\n",
      "2048/2048 [==============================] - 6s 3ms/sample - loss: 4.2399e-04 - val_loss: 4.7513e-04\n",
      "Epoch 48/100\n",
      "2048/2048 [==============================] - 6s 3ms/sample - loss: 4.1749e-04 - val_loss: 4.1805e-04\n",
      "Epoch 49/100\n",
      "2048/2048 [==============================] - 6s 3ms/sample - loss: 3.4706e-04 - val_loss: 4.2063e-04\n",
      "Epoch 50/100\n",
      "2048/2048 [==============================] - 6s 3ms/sample - loss: 3.5581e-04 - val_loss: 4.7708e-04\n",
      "Epoch 51/100\n",
      "2048/2048 [==============================] - 6s 3ms/sample - loss: 3.9127e-04 - val_loss: 4.5742e-04\n",
      "Epoch 52/100\n",
      "2048/2048 [==============================] - 6s 3ms/sample - loss: 4.3834e-04 - val_loss: 4.6735e-04\n",
      "Epoch 53/100\n",
      "2048/2048 [==============================] - 6s 3ms/sample - loss: 3.1927e-04 - val_loss: 4.1822e-04\n",
      "Epoch 54/100\n",
      "2048/2048 [==============================] - 6s 3ms/sample - loss: 3.1973e-04 - val_loss: 5.0112e-04\n",
      "Epoch 55/100\n",
      "2048/2048 [==============================] - 6s 3ms/sample - loss: 4.2677e-04 - val_loss: 4.2162e-04\n",
      "Epoch 56/100\n",
      "2048/2048 [==============================] - 6s 3ms/sample - loss: 3.7942e-04 - val_loss: 3.8809e-04\n",
      "Epoch 57/100\n",
      "2048/2048 [==============================] - 6s 3ms/sample - loss: 2.9650e-04 - val_loss: 3.7506e-04\n",
      "Epoch 58/100\n",
      "2048/2048 [==============================] - 6s 3ms/sample - loss: 2.5894e-04 - val_loss: 4.0140e-04\n",
      "Epoch 59/100\n",
      "2048/2048 [==============================] - 6s 3ms/sample - loss: 3.4005e-04 - val_loss: 3.5176e-04\n",
      "Epoch 60/100\n",
      "2048/2048 [==============================] - 6s 3ms/sample - loss: 3.0152e-04 - val_loss: 3.1079e-04\n",
      "Epoch 61/100\n",
      "2048/2048 [==============================] - 6s 3ms/sample - loss: 3.3398e-04 - val_loss: 3.1404e-04\n",
      "Epoch 62/100\n",
      "2048/2048 [==============================] - 6s 3ms/sample - loss: 2.6117e-04 - val_loss: 3.2774e-04\n",
      "Epoch 63/100\n",
      "2048/2048 [==============================] - 6s 3ms/sample - loss: 2.7434e-04 - val_loss: 6.2623e-04\n",
      "Epoch 64/100\n",
      "2048/2048 [==============================] - 7s 3ms/sample - loss: 3.0568e-04 - val_loss: 3.0075e-04\n",
      "Epoch 65/100\n",
      "2048/2048 [==============================] - 6s 3ms/sample - loss: 2.8158e-04 - val_loss: 4.1166e-04\n",
      "Epoch 66/100\n",
      "2048/2048 [==============================] - 6s 3ms/sample - loss: 2.7328e-04 - val_loss: 2.9154e-04\n",
      "Epoch 67/100\n",
      "2048/2048 [==============================] - 6s 3ms/sample - loss: 2.6072e-04 - val_loss: 2.9177e-04\n",
      "Epoch 68/100\n",
      "2048/2048 [==============================] - 6s 3ms/sample - loss: 3.5746e-04 - val_loss: 2.6932e-04\n",
      "Epoch 69/100\n",
      "2048/2048 [==============================] - 7s 3ms/sample - loss: 2.5899e-04 - val_loss: 2.8906e-04\n",
      "Epoch 70/100\n",
      "2048/2048 [==============================] - 7s 3ms/sample - loss: 2.4701e-04 - val_loss: 2.7698e-04\n",
      "Epoch 71/100\n",
      "2048/2048 [==============================] - 7s 3ms/sample - loss: 2.1922e-04 - val_loss: 2.9537e-04\n",
      "Epoch 72/100\n",
      "2048/2048 [==============================] - 8s 4ms/sample - loss: 2.6004e-04 - val_loss: 2.5091e-04\n",
      "Epoch 73/100\n",
      "2048/2048 [==============================] - 8s 4ms/sample - loss: 2.2474e-04 - val_loss: 2.6339e-04\n",
      "Epoch 74/100\n",
      "2048/2048 [==============================] - 7s 4ms/sample - loss: 2.4480e-04 - val_loss: 3.0841e-04\n",
      "Epoch 75/100\n",
      "2048/2048 [==============================] - 8s 4ms/sample - loss: 2.3458e-04 - val_loss: 2.4481e-04\n",
      "Epoch 76/100\n",
      "2048/2048 [==============================] - 8s 4ms/sample - loss: 2.3631e-04 - val_loss: 2.3890e-04\n",
      "Epoch 77/100\n",
      "2048/2048 [==============================] - 8s 4ms/sample - loss: 2.4933e-04 - val_loss: 2.1947e-04\n",
      "Epoch 78/100\n",
      "2048/2048 [==============================] - 7s 3ms/sample - loss: 1.9551e-04 - val_loss: 2.4646e-04\n",
      "Epoch 79/100\n",
      "2048/2048 [==============================] - 7s 3ms/sample - loss: 2.8501e-04 - val_loss: 2.3353e-04\n",
      "Epoch 80/100\n",
      "2048/2048 [==============================] - 7s 3ms/sample - loss: 1.8019e-04 - val_loss: 3.2488e-04\n",
      "Epoch 81/100\n",
      "2048/2048 [==============================] - 7s 3ms/sample - loss: 1.8148e-04 - val_loss: 2.9866e-04\n",
      "Epoch 82/100\n",
      "2048/2048 [==============================] - 7s 3ms/sample - loss: 2.3558e-04 - val_loss: 3.6341e-04\n",
      "Epoch 83/100\n",
      "2048/2048 [==============================] - 7s 3ms/sample - loss: 1.8868e-04 - val_loss: 2.0345e-04\n",
      "Epoch 84/100\n",
      "2048/2048 [==============================] - 7s 3ms/sample - loss: 2.6238e-04 - val_loss: 2.0198e-04\n",
      "Epoch 85/100\n",
      "2048/2048 [==============================] - 7s 3ms/sample - loss: 1.9067e-04 - val_loss: 2.2142e-04\n",
      "Epoch 86/100\n",
      "2048/2048 [==============================] - 7s 3ms/sample - loss: 1.7691e-04 - val_loss: 2.2210e-04\n",
      "Epoch 87/100\n",
      "2048/2048 [==============================] - 7s 4ms/sample - loss: 1.9760e-04 - val_loss: 1.9936e-04\n",
      "Epoch 88/100\n",
      "2048/2048 [==============================] - 7s 3ms/sample - loss: 1.4680e-04 - val_loss: 2.6771e-04\n",
      "Epoch 89/100\n",
      "2048/2048 [==============================] - 6s 3ms/sample - loss: 1.6290e-04 - val_loss: 1.8011e-04\n",
      "Epoch 90/100\n",
      "2048/2048 [==============================] - 7s 3ms/sample - loss: 1.6695e-04 - val_loss: 4.2410e-04\n",
      "Epoch 91/100\n",
      "2048/2048 [==============================] - 6s 3ms/sample - loss: 1.6552e-04 - val_loss: 3.2167e-04\n",
      "Epoch 92/100\n",
      "2048/2048 [==============================] - 6s 3ms/sample - loss: 1.5654e-04 - val_loss: 2.6329e-04\n",
      "Epoch 93/100\n",
      "2048/2048 [==============================] - 6s 3ms/sample - loss: 2.6091e-04 - val_loss: 1.9945e-04\n",
      "Epoch 94/100\n",
      "2048/2048 [==============================] - 7s 3ms/sample - loss: 1.3958e-04 - val_loss: 1.9112e-04\n",
      "Epoch 95/100\n",
      "2048/2048 [==============================] - 7s 3ms/sample - loss: 1.2849e-04 - val_loss: 1.5439e-04\n",
      "Epoch 96/100\n",
      "2048/2048 [==============================] - 7s 3ms/sample - loss: 1.3220e-04 - val_loss: 2.0907e-04\n",
      "Epoch 97/100\n",
      "2048/2048 [==============================] - 7s 4ms/sample - loss: 1.1875e-04 - val_loss: 1.3878e-04\n",
      "Epoch 98/100\n",
      "2048/2048 [==============================] - 7s 3ms/sample - loss: 1.1585e-04 - val_loss: 1.3401e-04\n",
      "Epoch 99/100\n",
      "2048/2048 [==============================] - 7s 3ms/sample - loss: 1.3428e-04 - val_loss: 1.5929e-04\n",
      "Epoch 100/100\n",
      "2048/2048 [==============================] - 7s 3ms/sample - loss: 9.8166e-05 - val_loss: 1.3217e-04\n"
     ]
    }
   ],
   "source": [
    "# 7.16 GRU 네트워크 학습\n",
    "X = np.array(X)\n",
    "Y = np.array(Y)\n",
    "history = model.fit(X[:2560], Y[:2560], epochs=100, validation_split=0.2)"
   ]
  },
  {
   "cell_type": "code",
   "execution_count": 20,
   "metadata": {
    "colab": {
     "base_uri": "https://localhost:8080/",
     "height": 283
    },
    "colab_type": "code",
    "executionInfo": {
     "elapsed": 1853,
     "status": "ok",
     "timestamp": 1565176283841,
     "user": {
      "displayName": "Hwanhee Kim",
      "photoUrl": "https://lh6.googleusercontent.com/-nodxsDvEvZo/AAAAAAAAAAI/AAAAAAAABHE/Ybrj2myvr5Q/s64/photo.jpg",
      "userId": "04863080312902369470"
     },
     "user_tz": -540
    },
    "id": "-SHz_LHExkH3",
    "outputId": "89a43f72-ea39-450c-d88b-a7da9208e72a"
   },
   "outputs": [
    {
     "data": {
      "image/png": "[encoded data removed]",
      "text/plain": [
       "<Figure size 432x288 with 1 Axes>"
      ]
     },
     "metadata": {
      "needs_background": "light"
     },
     "output_type": "display_data"
    }
   ],
   "source": [
    "# 7.17 GRU 네트워크 학습 결과 확인\n",
    "import matplotlib.pyplot as plt\n",
    "plt.plot(history.history['loss'], 'b-', label='loss')\n",
    "plt.plot(history.history['val_loss'], 'r--', label='val_loss')\n",
    "plt.xlabel('Epoch')\n",
    "plt.legend()\n",
    "plt.show()"
   ]
  },
  {
   "cell_type": "code",
   "execution_count": 22,
   "metadata": {
    "colab": {
     "base_uri": "https://localhost:8080/",
     "height": 143
    },
    "colab_type": "code",
    "executionInfo": {
     "elapsed": 1717,
     "status": "ok",
     "timestamp": 1565176412723,
     "user": {
      "displayName": "Hwanhee Kim",
      "photoUrl": "https://lh6.googleusercontent.com/-nodxsDvEvZo/AAAAAAAAAAI/AAAAAAAABHE/Ybrj2myvr5Q/s64/photo.jpg",
      "userId": "04863080312902369470"
     },
     "user_tz": -540
    },
    "id": "JdecdSb0xkDj",
    "outputId": "8695a72f-4f0c-4fe0-f8ce-b4159ca249f4"
   },
   "outputs": [
    {
     "name": "stdout",
     "output_type": "stream",
     "text": [
      "440/440 [==============================] - 1s 1ms/sample - loss: 1.1304e-04\n",
      "0.24467654209052994 \t 0.25155115 \tdiff: 0.006874609185104824\n",
      "0.03799422518023726 \t 0.045710273 \tdiff: 0.007716047906787427\n",
      "0.43853523451824333 \t 0.44452918 \tdiff: 0.005993941240118483\n",
      "0.020768808706543084 \t 0.017423369 \tdiff: 0.003345439716121789\n",
      "0.127802033914215 \t 0.12121939 \tdiff: 0.006582644773609064\n",
      "correctness: 99.31818181818181 %\n"
     ]
    }
   ],
   "source": [
    "# 7.18 Test 데이터에 대한 예측 정확도 확인\n",
    "model.evaluate(X[2560:], Y[2560:])\n",
    "prediction = model.predict(X[2560:2560+5])\n",
    "for i in range(5):\n",
    "    print(Y[2560+i], '\\t', prediction[i][0], '\\tdiff:', abs(prediction[i][0] - Y[2560+i]))\n",
    "    \n",
    "prediction = model.predict(X[2560:])\n",
    "cnt = 0\n",
    "for i in range(len(prediction)):\n",
    "    if abs(prediction[i][0] - Y[2560+i]) > 0.04:\n",
    "        cnt += 1\n",
    "print('correctness:', (440 - cnt) / 440 * 100, '%')"
   ]
  }
 ],
 "metadata": {
  "accelerator": "GPU",
  "colab": {
   "collapsed_sections": [],
   "name": "Chapter7.ipynb",
   "provenance": [
    {
     "file_id": "148SI-wpi5Z3vDvYyOrNwGKsQQLZnVF-S",
     "timestamp": 1565493431491
    }
   ],
   "toc_visible": true
  },
  "kernelspec": {
   "display_name": "Python 3",
   "language": "python",
   "name": "python3"
  },
  "language_info": {
   "codemirror_mode": {
    "name": "ipython",
    "version": 3
   },
   "file_extension": ".py",
   "mimetype": "text/x-python",
   "name": "python",
   "nbconvert_exporter": "python",
   "pygments_lexer": "ipython3",
   "version": "3.7.4"
  }
 },
 "nbformat": 4,
 "nbformat_minor": 1
}
